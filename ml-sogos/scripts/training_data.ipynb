{
 "cells": [
  {
   "cell_type": "markdown",
   "metadata": {},
   "source": [
    "# Training Data Preparation for Random Forest"
   ]
  },
  {
   "cell_type": "code",
   "execution_count": null,
   "metadata": {},
   "outputs": [],
   "source": [
    "# Import Packages\n",
    "\n",
    "#Data Structure/Organization Packages\n",
    "import pandas as pd\n",
    "import xarray as xr\n",
    "import numpy as np\n",
    "import numpy.ma as ma\n",
    "\n",
    "# Plotting Packages\n",
    "import matplotlib.pyplot as plt\n",
    "import seaborn\n",
    "\n",
    "# Machine Learning/Statistics Packages\n",
    "from scipy.stats import kde\n",
    "from scipy.stats import iqr\n",
    "from sklearn import linear_model\n",
    "from sklearn.metrics import r2_score\n",
    "from sklearn.ensemble import RandomForestRegressor\n",
    "from sklearn import metrics\n",
    "import xgboost as xgb\n",
    "from pygam import LinearGAM, l, s, f\n",
    "from hyperopt import STATUS_OK, Trials, fmin, hp, tpe\n",
    "from sklearn.metrics import mean_squared_error\n",
    "\n",
    "# Utility Packages\n",
    "import random as rand\n",
    "import os\n",
    "import math\n",
    "import dataframe_image as dfi\n",
    "import itertools\n",
    "from scipy import interpolate\n",
    "\n",
    "# Oceanography Packages\n",
    "import gsw\n",
    "import PyCO2SYS as pyco2\n",
    "\n",
    "import sgmod_main as sg"
   ]
  },
  {
   "cell_type": "markdown",
   "metadata": {},
   "source": [
    "## Ship Data"
   ]
  },
  {
   "cell_type": "code",
   "execution_count": null,
   "metadata": {},
   "outputs": [],
   "source": [
    "# Load Ship Data (Already QC Filtered) into Pandas Dataframe\n",
    "ship_fp = \"/Users/sangminsong/OneDrive - UW/Code/SOGOS/data/ship/bottle_data.csv\"\n",
    "ship_DF = pd.read_csv(ship_fp)\n",
    "\n",
    "ship_DF[\"Julian Day\"] = pd.to_datetime(ship_DF[\"Julian Day\"].values/1440, unit='D', origin=pd.Timestamp('1980-01-01'))\n",
    "ship_DF['Yearday'] = sg.datetime2ytd(ship_DF['Julian Day'])"
   ]
  },
  {
   "cell_type": "markdown",
   "metadata": {},
   "source": [
    "## Float Data and Corrections"
   ]
  },
  {
   "cell_type": "code",
   "execution_count": null,
   "metadata": {},
   "outputs": [],
   "source": [
    "floatdir = \"/Users/sangminsong/OneDrive - UW/Code/SOGOS/data/float/\"\n",
    "floatDSdict = {}\n",
    "for filename in os.listdir(floatdir):\n",
    "    fp = floatdir + filename\n",
    "    DS = xr.open_dataset(fp, decode_times=False)\n",
    "    floatDSdict[filename[0:7]] = DS"
   ]
  },
  {
   "cell_type": "code",
   "execution_count": null,
   "metadata": {},
   "outputs": [],
   "source": [
    "## Float Corrections\n",
    "flag = 0\n",
    "for floatnum in floatDSdict:\n",
    "    # print(floatDSdict[floatnum][\"PARAMETER_DATA_MODE\"])\n",
    "    # print(floatDSdict[floatnum][\"PARAMETER\"].values)\n",
    "    for prof in floatDSdict[floatnum][\"PARAMETER_DATA_MODE\"]:\n",
    "        data_modes = np.concatenate((prof.values[-2:],prof.values[0:4]))\n",
    "        if np.all((data_modes == b'D') | (data_modes == b'A')) == False:\n",
    "            flag = 1\n",
    "if flag == 0:\n",
    "    print(\"Data Mode is all D or A! All Good!\")"
   ]
  },
  {
   "cell_type": "code",
   "execution_count": null,
   "metadata": {},
   "outputs": [],
   "source": [
    "def make_float_DF(floatDSdict):\n",
    "    \"\"\"\n",
    "    Create a dictionary with all necesary data fields from Argo.\n",
    "\n",
    "    # We Want the following data: \n",
    "    # Data Type, Date Update, LATITUDE, LONGITUDE, Position QC, PRES_ADJUSTED, PRES_ADJUSTED_QC,\n",
    "    # TEMP_ADJUSTED, TEMP_ADJUSTED_QC, PSAL_ADJUSTED, PSAL_ADJUSTED_QC, DOXY_ADJUSTED, DOXY_ADJUSTED_QC\n",
    "    # CHLA_ADJUSTED, CHLA_ADJUSTED_QC, NITRATE_ADJUSTED, NITRATE_ADJUSTED_QC\n",
    "\n",
    "    # Data Type is structured differently so we will process the QC in a different way.\n",
    "    \"\"\"\n",
    "    \n",
    "    TrainingData = {\n",
    "        # \"Serial Number\" : [],\n",
    "        # \"Data Mode\": [],\n",
    "        \"Julian Day\" : [],\n",
    "        \"Julian Day QC\" : [],\n",
    "        \"Latitude\" : [],\n",
    "        \"Longitude\" : [],\n",
    "        \"Position QC\" : [],\n",
    "        \"Pressure\" : [],\n",
    "        \"Pressure QC\": [],\n",
    "        \"Temperature Adjusted\" : [],\n",
    "        \"Temperature Adjusted QC\" : [],\n",
    "        \"Temperature\" : [],\n",
    "        \"Temperature QC\" : [],\n",
    "        \"Salinity Adjusted\" : [],\n",
    "        \"Salinity Adjusted QC\" : [],\n",
    "        \"Salinity\" : [],\n",
    "        \"Salinity QC\" : [],\n",
    "        \"Oxygen\" : [],\n",
    "        \"Oxygen QC\" : [],\n",
    "        \"Nitrate\": [],\n",
    "        \"Nitrate QC\": [],\n",
    "        \"pH\": [],\n",
    "        \"pH QC\": []\n",
    "    }\n",
    "\n",
    "    # Iterate through all floats in float dictionary\n",
    "    for floatnum in floatDSdict:\n",
    "\n",
    "        # Establish empty lists to append data to\n",
    "        # float_serial = []\n",
    "        # data_mode = []\n",
    "        float_juld = []\n",
    "        juld_QC = []\n",
    "        float_lat = []\n",
    "        float_lon = []\n",
    "        position_QC = []\n",
    "        float_pres = []\n",
    "        pres_QC = []\n",
    "        float_temp_adj = []\n",
    "        temp_adj_QC = []\n",
    "        float_temp = []\n",
    "        temp_QC = []\n",
    "        float_sal = []\n",
    "        sal_QC = []\n",
    "        float_sal_adj = []\n",
    "        sal_adj_QC = []\n",
    "        float_ox = []\n",
    "        ox_QC = []\n",
    "        nit = []\n",
    "        nit_QC = []\n",
    "        pH = []\n",
    "        pH_QC = []\n",
    "        # Iterate through every profile of a specific float\n",
    "        for iprof in floatDSdict[floatnum].N_PROF.values:\n",
    "            # Append Pressure, Temperature, P Salinity, Dis Oxygen, Nitrate, and pH, as well as associated QC\n",
    "            float_pres = float_pres + list(floatDSdict[floatnum].PRES_ADJUSTED[iprof].values)\n",
    "            pres_QC = pres_QC + [int(i.decode(\"utf-8\")) if type(i) != float else np.nan for i in floatDSdict[floatnum].PRES_ADJUSTED_QC[iprof].values]\n",
    "            float_temp_adj = float_temp_adj + list(floatDSdict[floatnum].TEMP_ADJUSTED[iprof].values)\n",
    "            temp_adj_QC = temp_adj_QC + [int(i.decode(\"utf-8\")) if type(i) != float else np.nan for i in floatDSdict[floatnum].TEMP_ADJUSTED_QC[iprof].values]\n",
    "            float_temp = float_temp + list(floatDSdict[floatnum].TEMP[iprof].values)\n",
    "            temp_QC = temp_QC + [int(i.decode(\"utf-8\")) if type(i) != float else np.nan for i in floatDSdict[floatnum].TEMP_QC[iprof].values]\n",
    "            float_sal_adj = float_sal_adj + list(floatDSdict[floatnum].PSAL_ADJUSTED[iprof].values)\n",
    "            sal_adj_QC = sal_adj_QC + [int(i.decode(\"utf-8\")) if type(i) != float else np.nan for i in floatDSdict[floatnum].PSAL_ADJUSTED_QC[iprof].values]\n",
    "            float_sal = float_sal + list(floatDSdict[floatnum].PSAL[iprof].values)\n",
    "            sal_QC = sal_QC + [int(i.decode(\"utf-8\")) if type(i) != float else np.nan for i in floatDSdict[floatnum].PSAL_QC[iprof].values]\n",
    "            float_ox = float_ox + list(floatDSdict[floatnum].DOXY_ADJUSTED[iprof].values)\n",
    "            ox_QC = ox_QC + [int(i.decode(\"utf-8\")) if type(i) != float else np.nan for i in floatDSdict[floatnum].DOXY_ADJUSTED_QC[iprof].values]\n",
    "            nit = nit + list(floatDSdict[floatnum].NITRATE_ADJUSTED[iprof].values)\n",
    "            nit_QC = nit_QC + [int(i.decode(\"utf-8\")) if type(i) != float else np.nan for i in floatDSdict[floatnum].NITRATE_ADJUSTED_QC[iprof].values]\n",
    "            pH = pH + list(floatDSdict[floatnum].PH_IN_SITU_TOTAL_ADJUSTED[iprof].values)\n",
    "            pH_QC = pH_QC + [int(i.decode(\"utf-8\")) if type(i) != float else np.nan for i in floatDSdict[floatnum].PH_IN_SITU_TOTAL_ADJUSTED_QC[iprof].values]\n",
    "            # print(float_pres)\n",
    "\n",
    "            # Append Julian Day, lat, lon, and QC. Values stay the same for whole profile\n",
    "            # float_serial_temp = np.array2string(floatDSdict[floatnum].FLOAT_SERIAL_NO[iprof].values)\n",
    "            float_juld_temp = pd.to_datetime(floatDSdict[floatnum].JULD.values[iprof], unit='D', origin=pd.Timestamp('1950-01-01'))\n",
    "            juld_QC_temp = int(floatDSdict[floatnum].JULD_QC.values[iprof])\n",
    "            float_lat_temp = float(floatDSdict[floatnum].LATITUDE.values[iprof])\n",
    "            float_lon_temp = float(floatDSdict[floatnum].LONGITUDE.values[iprof])\n",
    "            position_QC_temp = int(floatDSdict[floatnum].POSITION_QC.values[iprof])\n",
    "            data_mode_temp = [str(i.decode(\"utf-8\")) for i in floatDSdict[floatnum].PARAMETER_DATA_MODE[iprof].values]\n",
    "            # print(data_mode_temp)\n",
    "            # print(position_QC_temp)\n",
    "\n",
    "            # Duplicate values to be of the right array size since values stay the same for whole profile\n",
    "            # float_serial = [float_serial_temp] * len(float_pres)\n",
    "            float_juld = float_juld + ([float_juld_temp] * len(list(floatDSdict[floatnum].PRES_ADJUSTED[iprof].values)))\n",
    "            juld_QC = juld_QC + ([juld_QC_temp] * len(list(floatDSdict[floatnum].PRES_ADJUSTED[iprof].values)))\n",
    "            float_lat = float_lat + ([float_lat_temp] * len(list(floatDSdict[floatnum].PRES_ADJUSTED[iprof].values)))\n",
    "            float_lon = float_lon + ([float_lon_temp] * len(list(floatDSdict[floatnum].PRES_ADJUSTED[iprof].values)))\n",
    "            position_QC = position_QC + ([position_QC_temp] * len(list(floatDSdict[floatnum].PRES_ADJUSTED[iprof].values)))\n",
    "            # data_mode = data_mode + [data_mode_temp] * len(list(floatDSdict[floatnum].PRES_ADJUSTED[iprof].values))\n",
    "        print(\"float\", floatnum, \"completed\")\n",
    "\n",
    "        # Add to overall training data dictionary\n",
    "        # TrainingData[\"Serial Number\"] = TrainingData[\"Serial Number\"] + float_serial\n",
    "        # TrainingData[\"Data Mode\"] = TrainingData[\"Data Mode\"] + data_mode\n",
    "        TrainingData[\"Julian Day\"] = TrainingData[\"Julian Day\"] + float_juld\n",
    "        TrainingData[\"Julian Day QC\"] = TrainingData[\"Julian Day QC\"] + juld_QC\n",
    "        TrainingData[\"Latitude\"] = TrainingData[\"Latitude\"] + float_lat\n",
    "        TrainingData[\"Longitude\"] = TrainingData[\"Longitude\"] + float_lon\n",
    "        TrainingData[\"Position QC\"] = TrainingData[\"Position QC\"] + position_QC\n",
    "        TrainingData[\"Pressure\"] = TrainingData[\"Pressure\"] + float_pres\n",
    "        TrainingData[\"Pressure QC\"] = TrainingData[\"Pressure QC\"] + pres_QC\n",
    "        TrainingData[\"Temperature Adjusted\"] = TrainingData[\"Temperature Adjusted\"] + float_temp_adj\n",
    "        TrainingData[\"Temperature Adjusted QC\"] = TrainingData[\"Temperature Adjusted QC\"] + temp_adj_QC\n",
    "        TrainingData[\"Temperature\"] = TrainingData[\"Temperature\"] + float_temp\n",
    "        TrainingData[\"Temperature QC\"] = TrainingData[\"Temperature QC\"] + temp_QC\n",
    "        TrainingData[\"Salinity Adjusted\"] = TrainingData[\"Salinity Adjusted\"] + float_sal_adj\n",
    "        TrainingData[\"Salinity Adjusted QC\"] = TrainingData[\"Salinity Adjusted QC\"] + sal_adj_QC\n",
    "        TrainingData[\"Salinity\"] = TrainingData[\"Salinity\"] + float_sal\n",
    "        TrainingData[\"Salinity QC\"] = TrainingData[\"Salinity QC\"] + sal_QC\n",
    "        TrainingData[\"Oxygen\"] = TrainingData[\"Oxygen\"] + float_ox\n",
    "        TrainingData[\"Oxygen QC\"] = TrainingData[\"Oxygen QC\"] + ox_QC\n",
    "        TrainingData[\"Nitrate\"] = TrainingData[\"Nitrate\"] + nit\n",
    "        TrainingData[\"Nitrate QC\"] = TrainingData[\"Nitrate QC\"] + nit_QC\n",
    "        TrainingData[\"pH\"] = TrainingData[\"pH\"] + pH\n",
    "        TrainingData[\"pH QC\"] = TrainingData[\"pH QC\"] + pH_QC   \n",
    "    # Convert dictionary into pandas dataframe object\n",
    "    TrainingDF = pd.DataFrame.from_dict(TrainingData)\n",
    "\n",
    "    #QC for Pressure, Position, Temperature, and Salinity, Nitrate, Oxygen, pH\n",
    "    # 1: Good data\n",
    "    # 2: Probably good data\n",
    "    # 8: Estimated\n",
    "    # A: real time adjusted values\n",
    "    # D: Delayed mode\n",
    "    # Taken from https://argo.ucsd.edu/data/how-to-use-argo-files/\n",
    "\n",
    "    TrainingDF = TrainingDF[(TrainingDF[\"Position QC\"] == 1) | (TrainingDF[\"Position QC\"] == 2)]\n",
    "    TrainingDF = TrainingDF[(TrainingDF[\"Julian Day QC\"] == 1) | (TrainingDF[\"Julian Day QC\"] == 2)]\n",
    "    TrainingDF = TrainingDF[(TrainingDF[\"Pressure QC\"] == 1) | (TrainingDF[\"Pressure QC\"] == 2)]\n",
    "    TrainingDF = TrainingDF[(TrainingDF[\"Temperature QC\"] == 1) | (TrainingDF[\"Temperature QC\"] == 2) | (TrainingDF[\"Temperature QC\"] == 8)]\n",
    "    TrainingDF = TrainingDF[(TrainingDF[\"Salinity QC\"] == 1) | (TrainingDF[\"Salinity QC\"] == 2) | (TrainingDF[\"Salinity QC\"] == 8)]\n",
    "    TrainingDF = TrainingDF[(TrainingDF[\"Oxygen QC\"] == np.nan) | ((TrainingDF[\"Oxygen QC\"] == 1) | (TrainingDF[\"Oxygen QC\"] == 2))]\n",
    "    TrainingDF = TrainingDF[(TrainingDF[\"Nitrate QC\"] == 1) | (TrainingDF[\"Nitrate QC\"] == 2)]\n",
    "    TrainingDF = TrainingDF[(TrainingDF[\"pH QC\"] == 1) | (TrainingDF[\"pH QC\"] == 2)]\n",
    "\n",
    "    # Spatial Bounds\n",
    "    # TrainingDF = TrainingDF[(TrainingDF[\"Longitude\"] < 33) & (TrainingDF[\"Longitude\"] > 27)]\n",
    "\n",
    "    return TrainingDF"
   ]
  },
  {
   "cell_type": "code",
   "execution_count": null,
   "metadata": {},
   "outputs": [],
   "source": [
    "float_DF = make_float_DF(floatDSdict)\n",
    "float_DF[\"Salinity Adjusted\"] = gsw.SA_from_SP(float_DF[\"Salinity Adjusted\"],float_DF[\"Pressure\"],float_DF[\"Longitude\"],float_DF[\"Latitude\"]).values\n",
    "float_DF[\"Temperature Adjusted\"] = gsw.CT_from_t(float_DF[\"Salinity Adjusted\"], float_DF[\"Temperature Adjusted\"], float_DF[\"Pressure\"])\n",
    "\n",
    "float_DF['Yearday'] = sg.datetime2ytd(float_DF['Julian Day'])\n",
    "float_DF"
   ]
  },
  {
   "cell_type": "code",
   "execution_count": null,
   "metadata": {},
   "outputs": [],
   "source": [
    "# file_path = '/Users/sangminsong/OneDrive - UW/Code/SOGOS/gridded-vars/'\n",
    "float_DF.to_csv(file_path + 'FloatData_DF.csv')\n",
    "ship_DF.to_csv(file_path + 'ShipData_DF.csv')"
   ]
  },
  {
   "cell_type": "markdown",
   "metadata": {},
   "source": [
    "## Combine into full training dataset"
   ]
  },
  {
   "cell_type": "code",
   "execution_count": null,
   "metadata": {},
   "outputs": [],
   "source": [
    "## Combine float and ship data\n",
    "TrainingDF = float_DF[[\"Latitude\", \"Longitude\", \"Julian Day\", \"Pressure\", \"Temperature\", \"Salinity\", \"Oxygen\", \"Nitrate\", \"pH\"]]\n",
    "ship_DF = ship_DF[[\"Latitude\", \"Longitude\", \"Julian Day\", \"Pressure\", \"Temperature\", \"Salinity\", \"Oxygen\", \"Nitrate\", \"pH\"]]\n",
    "TrainingDF = pd.concat([TrainingDF, ship_DF], ignore_index=True)\n",
    "\n",
    "# Limiting pressure to 2000\n",
    "TrainingDF = TrainingDF[TrainingDF[\"Pressure\"] < 2000]\n",
    "TrainingDF = TrainingDF.reset_index(drop = True)\n",
    "\n",
    "TrainingDF.head()\n"
   ]
  },
  {
   "cell_type": "markdown",
   "metadata": {},
   "source": [
    "# Add Training Fields"
   ]
  },
  {
   "cell_type": "code",
   "execution_count": null,
   "metadata": {},
   "outputs": [],
   "source": [
    "# Add seasonal variables\n",
    "seasonal_sin = []\n",
    "seasonal_cos = []\n",
    "for date in TrainingDF[\"Julian Day\"]:\n",
    "    month = date.month\n",
    "    seasonal_sin.append(math.sin(2*math.pi*month/12))\n",
    "    seasonal_cos.append(math.cos(2*math.pi*month/12))\n",
    "TrainingDF[\"Season(sin)\"] = seasonal_sin\n",
    "TrainingDF[\"Season(cos)\"] = seasonal_cos\n"
   ]
  },
  {
   "cell_type": "code",
   "execution_count": null,
   "metadata": {},
   "outputs": [],
   "source": [
    "# Add sigma variables and N squared\n",
    "TrainingDF[\"Sigma 0\"] = gsw.sigma0(TrainingDF[\"Salinity\"].values, TrainingDF[\"Temperature\"].values)\n",
    "TrainingDF[\"Sigma 1\"] = gsw.sigma1(TrainingDF[\"Salinity\"].values, TrainingDF[\"Temperature\"].values)\n",
    "TrainingDF[\"Sigma 2\"] = gsw.sigma2(TrainingDF[\"Salinity\"].values, TrainingDF[\"Temperature\"].values)\n",
    "TrainingDF[\"N_Squared\"] = np.nan\n",
    "TrainingDF[\"N_Squared_v2\"] = np.nan\n",
    "TrainingDF[\"Profile\"] = np.nan"
   ]
  },
  {
   "cell_type": "code",
   "execution_count": null,
   "metadata": {},
   "outputs": [],
   "source": [
    "# Last Drop NA Check\n",
    "TrainingDF = TrainingDF.dropna()\n",
    "TrainingDF = TrainingDF.reset_index(drop = True)\n",
    "TrainingDF\n",
    "\n",
    "# may need to put one step here with unique dates\n"
   ]
  },
  {
   "cell_type": "markdown",
   "metadata": {},
   "source": [
    "# Checking data distributions"
   ]
  },
  {
   "cell_type": "code",
   "execution_count": null,
   "metadata": {},
   "outputs": [],
   "source": [
    "# Pair Wise Plots\n",
    "PWDF = TrainingDF[[\"Decimal Date\", \"Inverted Pressure\", \"Temperature\", \"Salinity\", \"Oxygen\", \"Nitrate\"]]\n",
    "seaborn.pairplot(PWDF)\n",
    "# plt.savefig(\"PairPlot.png\")\n",
    "plt.show()"
   ]
  }
 ],
 "metadata": {
  "kernelspec": {
   "display_name": "Python 3.8.9 64-bit",
   "language": "python",
   "name": "python3"
  },
  "language_info": {
   "name": "python",
   "version": "3.8.9"
  },
  "orig_nbformat": 4,
  "vscode": {
   "interpreter": {
    "hash": "31f2aee4e71d21fbe5cf8b01ff0e069b9275f58929596ceb00d14d90e3e16cd6"
   }
  }
 },
 "nbformat": 4,
 "nbformat_minor": 2
}
